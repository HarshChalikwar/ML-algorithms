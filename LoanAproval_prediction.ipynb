{
 "cells": [
  {
   "cell_type": "code",
   "execution_count": 31,
   "id": "13d10765",
   "metadata": {},
   "outputs": [],
   "source": [
    "#Importing Libraries\n",
    "import pandas as pd\n",
    "import numpy as np\n",
    "import matplotlib.pyplot as plt\n",
    "from sklearn.model_selection import train_test_split\n",
    "from sklearn.preprocessing import StandardScaler\n",
    "from sklearn.linear_model import LogisticRegression\n",
    "from sklearn.tree import DecisionTreeClassifier\n",
    "from sklearn.ensemble import RandomForestClassifier\n",
    "from sklearn.ensemble import GradientBoostingClassifier\n",
    "from xgboost import XGBClassifier\n",
    "from sklearn.metrics import classification_report\n",
    "from sklearn.metrics import confusion_matrix\n",
    "from sklearn.model_selection import GridSearchCV, RandomizedSearchCV"
   ]
  },
  {
   "cell_type": "code",
   "execution_count": 32,
   "id": "4109458a",
   "metadata": {},
   "outputs": [],
   "source": [
    "# Importing the data set\n",
    "data = pd.read_csv(\"loan_train.csv\")\n",
    "y = data['Status']\n",
    "X = data.drop(['Status'], axis=1)"
   ]
  },
  {
   "cell_type": "code",
   "execution_count": 33,
   "id": "67afd6fd",
   "metadata": {},
   "outputs": [
    {
     "name": "stdout",
     "output_type": "stream",
     "text": [
      "(491, 11) (123, 11) (491,) (123,)\n"
     ]
    }
   ],
   "source": [
    "# Splitting the dataset\n",
    "X_train, X_test, y_train, y_test = train_test_split(X, y, test_size=0.20, random_state=42)\n",
    "print(X_train.shape,X_test.shape,y_train.shape, y_test.shape) "
   ]
  },
  {
   "cell_type": "code",
   "execution_count": 34,
   "id": "17618945",
   "metadata": {},
   "outputs": [],
   "source": [
    "# Data Imputation for categorical variables\n",
    "X_train['Gender'].fillna(X_train['Gender'].mode()[0],inplace = True)\n",
    "X_train['Married'].fillna(X_train['Married'].mode()[0],inplace = True)\n",
    "X_train['Dependents'].fillna(X_train['Dependents'].mode()[0],inplace = True)\n",
    "X_train['Self_Employed'].fillna(X_train['Self_Employed'].mode()[0],inplace = True)\n",
    "X_train['Credit_History'].fillna(X_train['Credit_History'].mode()[0],inplace = True)\n",
    "X_train['Term'].fillna(X_train['Term'].mode()[0],inplace = True)\n",
    "# for test set as well\n",
    "X_test['Gender'].fillna(X_test['Gender'].mode()[0],inplace = True)\n",
    "X_test['Married'].fillna(X_test['Married'].mode()[0],inplace = True)\n",
    "X_test['Dependents'].fillna(X_test['Dependents'].mode()[0],inplace = True)\n",
    "X_test['Self_Employed'].fillna(X_test['Self_Employed'].mode()[0],inplace = True)\n",
    "X_test['Credit_History'].fillna(X_test['Credit_History'].mode()[0],inplace = True)\n",
    "X_test['Term'].fillna(X_test['Term'].mode()[0],inplace = True)"
   ]
  },
  {
   "cell_type": "code",
   "execution_count": 35,
   "id": "18cfa690",
   "metadata": {},
   "outputs": [],
   "source": [
    "#Data Imputation for numerical variables\n",
    "X_train['Loan_Amount'].fillna(X_train['Loan_Amount'].mean(),inplace = True)\n",
    "X_test['Loan_Amount'].fillna(X_test['Loan_Amount'].mean(),inplace = True)"
   ]
  },
  {
   "cell_type": "code",
   "execution_count": 36,
   "id": "0cfb410c",
   "metadata": {},
   "outputs": [],
   "source": [
    "#One-hot Encoding train values\n",
    "X_train = pd.get_dummies(X_train)\n",
    "y_train = pd.get_dummies(y_train)\n",
    "# Drop columns\n",
    "X_train = X_train.drop(['Gender_Female', 'Married_No', 'Education_Not Graduate', \n",
    "              'Self_Employed_No'], axis = 1)\n",
    "y_train = y_train.drop(['N'],axis = 1)\n",
    "# Rename columns name\n",
    "new = {'Gender_Male': 'Gender', 'Married_Yes': 'Married', \n",
    "       'Education_Graduate': 'Education', 'Self_Employed_Yes': 'Self_Employed'}\n",
    "new1 = {'Y' : 'Loan_Status'}       \n",
    "X_train.rename(columns = new, inplace = True)\n",
    "y_train.rename(columns = new, inplace = True)"
   ]
  },
  {
   "cell_type": "code",
   "execution_count": 37,
   "id": "fd095714",
   "metadata": {},
   "outputs": [],
   "source": [
    "#One-hot Encoding test values\n",
    "X_test = pd.get_dummies(X_test)\n",
    "y_test = pd.get_dummies(y_test)\n",
    "# Drop columns\n",
    "X_test = X_test.drop(['Gender_Female', 'Married_No', 'Education_Not Graduate', \n",
    "              'Self_Employed_No'], axis = 1)\n",
    "y_test = y_test.drop(['N'],axis = 1)\n",
    "# Rename columns name\n",
    "new = {'Gender_Male': 'Gender', 'Married_Yes': 'Married', \n",
    "       'Education_Graduate': 'Education', 'Self_Employed_Yes': 'Self_Employed'}\n",
    "new1 = {'Y' : 'Loan_Status'}       \n",
    "X_test.rename(columns = new, inplace = True)\n",
    "y_test.rename(columns = new1, inplace = True)"
   ]
  },
  {
   "cell_type": "code",
   "execution_count": 38,
   "id": "d1758e29",
   "metadata": {},
   "outputs": [],
   "source": [
    "# Data Normalisation \n",
    "scaler = StandardScaler()\n",
    "X_train = scaler.fit_transform(X_train)\n",
    "X_test = scaler.transform(X_test)"
   ]
  },
  {
   "cell_type": "code",
   "execution_count": 39,
   "id": "d3cb6afd",
   "metadata": {},
   "outputs": [],
   "source": [
    "# converting to numpy one dimentional array\n",
    "y_test = pd.DataFrame(y_test).to_numpy()\n",
    "y_test = y_test.ravel()\n",
    "y_train = pd.DataFrame(y_train).to_numpy()\n",
    "y_train =  y_train.ravel()"
   ]
  },
  {
   "cell_type": "code",
   "execution_count": 40,
   "id": "7cb0dfeb",
   "metadata": {},
   "outputs": [
    {
     "name": "stdout",
     "output_type": "stream",
     "text": [
      "              precision    recall  f1-score   support\n",
      "\n",
      "           0       0.95      0.42      0.58        43\n",
      "           1       0.76      0.99      0.86        80\n",
      "\n",
      "    accuracy                           0.79       123\n",
      "   macro avg       0.85      0.70      0.72       123\n",
      "weighted avg       0.83      0.79      0.76       123\n",
      "\n",
      "[[18 25]\n",
      " [ 1 79]]\n",
      "LR accuracy: 78.86%\n"
     ]
    }
   ],
   "source": [
    "#Logistic Regression\n",
    "lr = LogisticRegression(solver = 'saga', max_iter = 500, random_state = 1)\n",
    "lr.fit(X_train, y_train)\n",
    "y_pred = lr.predict(X_test)\n",
    "print(classification_report(y_test, y_pred))\n",
    "print(confusion_matrix(y_test, y_pred))\n",
    "\n",
    "from sklearn.metrics import accuracy_score\n",
    "LRAcc = accuracy_score(y_pred,y_test)\n",
    "print('LR accuracy: {:.2f}%'.format(LRAcc*100))"
   ]
  },
  {
   "cell_type": "code",
   "execution_count": 41,
   "id": "c4d2c323",
   "metadata": {},
   "outputs": [
    {
     "data": {
      "image/png": "[encoded data removed]",
      "text/plain": [
       "<Figure size 640x480 with 1 Axes>"
      ]
     },
     "metadata": {},
     "output_type": "display_data"
    },
    {
     "name": "stdout",
     "output_type": "stream",
     "text": [
      "Decision Tree Accuracy: 78.86%\n"
     ]
    }
   ],
   "source": [
    "#Decision Tree\n",
    "score_dt = []\n",
    "for i in range(2,21):\n",
    "    dtc = DecisionTreeClassifier(max_leaf_nodes = i)\n",
    "    dtc.fit(X_train, y_train)\n",
    "    score_dt.append(dtc.score(X_test, y_test))\n",
    "    \n",
    "plt.plot(range(2,21), score_dt)\n",
    "plt.xticks(np.arange(2,21,1))\n",
    "plt.xlabel(\"Leaf\")\n",
    "plt.ylabel(\"Score\")\n",
    "plt.show()\n",
    "DTAcc = max(score_dt)\n",
    "print(\"Decision Tree Accuracy: {:.2f}%\".format(DTAcc*100))"
   ]
  },
  {
   "cell_type": "code",
   "execution_count": 42,
   "id": "3f6e9300",
   "metadata": {},
   "outputs": [
    {
     "data": {
      "image/png": "[encoded data removed]",
      "text/plain": [
       "<Figure size 640x480 with 1 Axes>"
      ]
     },
     "metadata": {},
     "output_type": "display_data"
    },
    {
     "name": "stdout",
     "output_type": "stream",
     "text": [
      "Random Forest Accuracy:  78.86%\n"
     ]
    }
   ],
   "source": [
    "#Random Forest\n",
    "score_rf = []\n",
    "for i in range(2,25):\n",
    "    rfc = RandomForestClassifier(n_estimators = 1000, random_state = 1, max_leaf_nodes=i)\n",
    "    rfc.fit(X_train, y_train)\n",
    "    score_rf.append(rfc.score(X_test, y_test))\n",
    "    \n",
    "plt.plot(range(2,25), score_rf)\n",
    "plt.xticks(np.arange(2,25,1))\n",
    "plt.xlabel(\"RF Value\")\n",
    "plt.ylabel(\"Score\")\n",
    "plt.show()\n",
    "RFAcc = max(score_rf)\n",
    "print(\"Random Forest Accuracy:  {:.2f}%\".format(RFAcc*100))"
   ]
  },
  {
   "cell_type": "code",
   "execution_count": 43,
   "id": "ea0ac2d6",
   "metadata": {},
   "outputs": [
    {
     "name": "stdout",
     "output_type": "stream",
     "text": [
      "GradientBoostingClassifier(max_depth=4, max_leaf_nodes=2, n_estimators=200,\n",
      "                           subsample=0.5)\n",
      "0.8245000000000001\n",
      "{'subsample': 0.5, 'n_estimators': 200, 'max_leaf_nodes': 2, 'max_depth': 4}\n",
      "6\n"
     ]
    }
   ],
   "source": [
    "#Gradient Boosting\n",
    "paramsGB={'n_estimators' : [100,200,300,400,500],\n",
    "      'max_depth' : [1,2,3,4,5],\n",
    "      'subsample' : [0.5,1],\n",
    "      'max_leaf_nodes' : [2,5,10,20,30,40,50]}\n",
    "GB = RandomizedSearchCV(GradientBoostingClassifier(), paramsGB, cv=20)\n",
    "GB.fit(X_train, y_train)\n",
    "print(GB.best_estimator_)\n",
    "print(GB.best_score_)\n",
    "print(GB.best_params_)\n",
    "print(GB.best_index_)\n"
   ]
  },
  {
   "cell_type": "code",
   "execution_count": 45,
   "id": "f063e7f1",
   "metadata": {},
   "outputs": [
    {
     "name": "stdout",
     "output_type": "stream",
     "text": [
      "              precision    recall  f1-score   support\n",
      "\n",
      "           0       0.74      0.47      0.57        43\n",
      "           1       0.76      0.91      0.83        80\n",
      "\n",
      "    accuracy                           0.76       123\n",
      "   macro avg       0.75      0.69      0.70       123\n",
      "weighted avg       0.75      0.76      0.74       123\n",
      "\n",
      "[[20 23]\n",
      " [ 7 73]]\n",
      "Gradient Boosting accuracy: 75.61%\n"
     ]
    }
   ],
   "source": [
    "gbc = GradientBoostingClassifier(subsample = 0.5, n_estimators = 400, max_depth = 4, max_leaf_nodes = 10)\n",
    "gbc.fit(X_train, y_train)\n",
    "\n",
    "y_pred = gbc.predict(X_test)\n",
    "\n",
    "print(classification_report(y_test, y_pred))\n",
    "print(confusion_matrix(y_test, y_pred))\n",
    "\n",
    "from sklearn.metrics import accuracy_score\n",
    "GBAcc = accuracy_score(y_pred,y_test)\n",
    "print('Gradient Boosting accuracy: {:.2f}%'.format(GBAcc*100))"
   ]
  },
  {
   "cell_type": "code",
   "execution_count": null,
   "id": "6a3fb75e",
   "metadata": {},
   "outputs": [],
   "source": []
  }
 ],
 "metadata": {
  "kernelspec": {
   "display_name": "Python 3 (ipykernel)",
   "language": "python",
   "name": "python3"
  },
  "language_info": {
   "codemirror_mode": {
    "name": "ipython",
    "version": 3
   },
   "file_extension": ".py",
   "mimetype": "text/x-python",
   "name": "python",
   "nbconvert_exporter": "python",
   "pygments_lexer": "ipython3",
   "version": "3.11.2"
  }
 },
 "nbformat": 4,
 "nbformat_minor": 5
}
